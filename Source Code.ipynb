{
 "cells": [
  {
   "cell_type": "markdown",
   "id": "a8686896",
   "metadata": {},
   "source": [
    "# **Task 1 - Machine Learning - Individual 1. Data Acquisition and Exploration**\n",
    "\n",
    "### Rabbani Nur Kumoro\n",
    "\n",
    "### 21/472599/PA/20310\n",
    "\n",
    "### CSB"
   ]
  },
  {
   "cell_type": "markdown",
   "id": "33a1772d",
   "metadata": {},
   "source": [
    "# **Libraries Used**"
   ]
  },
  {
   "cell_type": "code",
   "execution_count": 1,
   "id": "07962751",
   "metadata": {},
   "outputs": [],
   "source": [
    "import pandas as pd\n",
    "import numpy as np\n",
    "import matplotlib.pyplot as plt\n",
    "import seaborn as sns\n",
    "from scipy.stats import pearsonr\n",
    "from sklearn.preprocessing import LabelEncoder, PowerTransformer\n",
    "from sklearn.model_selection import train_test_split, RandomizedSearchCV\n",
    "from sklearn.ensemble import RandomForestRegressor\n",
    "from sklearn.experimental import enable_iterative_imputer\n",
    "from sklearn.metrics import mean_absolute_percentage_error, r2_score\n",
    "from sklearn.impute import IterativeImputer, SimpleImputer"
   ]
  },
  {
   "cell_type": "markdown",
   "id": "6647dc3f",
   "metadata": {},
   "source": [
    "# **Dataset Informations**"
   ]
  },
  {
   "cell_type": "code",
   "execution_count": 3,
   "id": "f43d412d",
   "metadata": {},
   "outputs": [
    {
     "data": {
      "text/html": [
       "<div>\n",
       "<style scoped>\n",
       "    .dataframe tbody tr th:only-of-type {\n",
       "        vertical-align: middle;\n",
       "    }\n",
       "\n",
       "    .dataframe tbody tr th {\n",
       "        vertical-align: top;\n",
       "    }\n",
       "\n",
       "    .dataframe thead th {\n",
       "        text-align: right;\n",
       "    }\n",
       "</style>\n",
       "<table border=\"1\" class=\"dataframe\">\n",
       "  <thead>\n",
       "    <tr style=\"text-align: right;\">\n",
       "      <th></th>\n",
       "      <th>Price</th>\n",
       "      <th>Boat Type</th>\n",
       "      <th>Manufacturer</th>\n",
       "      <th>Type</th>\n",
       "      <th>Year Built</th>\n",
       "      <th>Length</th>\n",
       "      <th>Width</th>\n",
       "      <th>Material</th>\n",
       "      <th>Location</th>\n",
       "      <th>Number of views last 7 days</th>\n",
       "    </tr>\n",
       "  </thead>\n",
       "  <tbody>\n",
       "    <tr>\n",
       "      <th>0</th>\n",
       "      <td>CHF 3337</td>\n",
       "      <td>Motor Yacht</td>\n",
       "      <td>Rigiflex power boats</td>\n",
       "      <td>new boat from stock</td>\n",
       "      <td>2017</td>\n",
       "      <td>4.00</td>\n",
       "      <td>1.90</td>\n",
       "      <td>NaN</td>\n",
       "      <td>Switzerland Â» Lake Geneva Â» VÃ©senaz</td>\n",
       "      <td>226</td>\n",
       "    </tr>\n",
       "    <tr>\n",
       "      <th>1</th>\n",
       "      <td>EUR 3490</td>\n",
       "      <td>Center console boat</td>\n",
       "      <td>Terhi power boats</td>\n",
       "      <td>new boat from stock</td>\n",
       "      <td>2020</td>\n",
       "      <td>4.00</td>\n",
       "      <td>1.50</td>\n",
       "      <td>Thermoplastic</td>\n",
       "      <td>Germany Â» BÃ¶nningstedt</td>\n",
       "      <td>75</td>\n",
       "    </tr>\n",
       "    <tr>\n",
       "      <th>2</th>\n",
       "      <td>CHF 3770</td>\n",
       "      <td>Sport Boat</td>\n",
       "      <td>Marine power boats</td>\n",
       "      <td>new boat from stock</td>\n",
       "      <td>0</td>\n",
       "      <td>3.69</td>\n",
       "      <td>1.42</td>\n",
       "      <td>Aluminium</td>\n",
       "      <td>Switzerland Â» Lake of Zurich Â» StÃ¤fa ZH</td>\n",
       "      <td>124</td>\n",
       "    </tr>\n",
       "    <tr>\n",
       "      <th>3</th>\n",
       "      <td>DKK 25900</td>\n",
       "      <td>Sport Boat</td>\n",
       "      <td>Pioner power boats</td>\n",
       "      <td>new boat from stock</td>\n",
       "      <td>2020</td>\n",
       "      <td>3.00</td>\n",
       "      <td>1.00</td>\n",
       "      <td>NaN</td>\n",
       "      <td>Denmark Â» Svendborg</td>\n",
       "      <td>64</td>\n",
       "    </tr>\n",
       "    <tr>\n",
       "      <th>4</th>\n",
       "      <td>EUR 3399</td>\n",
       "      <td>Fishing Boat</td>\n",
       "      <td>Linder power boats</td>\n",
       "      <td>new boat from stock</td>\n",
       "      <td>2019</td>\n",
       "      <td>3.55</td>\n",
       "      <td>1.46</td>\n",
       "      <td>Aluminium</td>\n",
       "      <td>Germany Â» Bayern Â» MÃ¼nchen</td>\n",
       "      <td>58</td>\n",
       "    </tr>\n",
       "  </tbody>\n",
       "</table>\n",
       "</div>"
      ],
      "text/plain": [
       "       Price            Boat Type          Manufacturer                 Type  \\\n",
       "0   CHF 3337          Motor Yacht  Rigiflex power boats  new boat from stock   \n",
       "1   EUR 3490  Center console boat     Terhi power boats  new boat from stock   \n",
       "2   CHF 3770           Sport Boat    Marine power boats  new boat from stock   \n",
       "3  DKK 25900           Sport Boat    Pioner power boats  new boat from stock   \n",
       "4   EUR 3399         Fishing Boat    Linder power boats  new boat from stock   \n",
       "\n",
       "   Year Built  Length  Width       Material  \\\n",
       "0        2017    4.00   1.90            NaN   \n",
       "1        2020    4.00   1.50  Thermoplastic   \n",
       "2           0    3.69   1.42      Aluminium   \n",
       "3        2020    3.00   1.00            NaN   \n",
       "4        2019    3.55   1.46      Aluminium   \n",
       "\n",
       "                                     Location  Number of views last 7 days  \n",
       "0      Switzerland Â» Lake Geneva Â» VÃ©senaz                          226  \n",
       "1                    Germany Â» BÃ¶nningstedt                           75  \n",
       "2  Switzerland Â» Lake of Zurich Â» StÃ¤fa ZH                          124  \n",
       "3                        Denmark Â» Svendborg                           64  \n",
       "4               Germany Â» Bayern Â» MÃ¼nchen                           58  "
      ]
     },
     "execution_count": 3,
     "metadata": {},
     "output_type": "execute_result"
    }
   ],
   "source": [
    "df = pd.read_csv('boat_data.csv')\n",
    "df.head()"
   ]
  },
  {
   "cell_type": "code",
   "execution_count": 4,
   "id": "b4b85775",
   "metadata": {},
   "outputs": [
    {
     "data": {
      "text/plain": [
       "(9888, 10)"
      ]
     },
     "execution_count": 4,
     "metadata": {},
     "output_type": "execute_result"
    }
   ],
   "source": [
    "df.shape"
   ]
  },
  {
   "cell_type": "code",
   "execution_count": 4,
   "id": "84bf349f",
   "metadata": {},
   "outputs": [
    {
     "data": {
      "text/html": [
       "<div>\n",
       "<style scoped>\n",
       "    .dataframe tbody tr th:only-of-type {\n",
       "        vertical-align: middle;\n",
       "    }\n",
       "\n",
       "    .dataframe tbody tr th {\n",
       "        vertical-align: top;\n",
       "    }\n",
       "\n",
       "    .dataframe thead th {\n",
       "        text-align: right;\n",
       "    }\n",
       "</style>\n",
       "<table border=\"1\" class=\"dataframe\">\n",
       "  <thead>\n",
       "    <tr style=\"text-align: right;\">\n",
       "      <th></th>\n",
       "      <th>Year Built</th>\n",
       "      <th>Length</th>\n",
       "      <th>Width</th>\n",
       "      <th>Number of views last 7 days</th>\n",
       "    </tr>\n",
       "  </thead>\n",
       "  <tbody>\n",
       "    <tr>\n",
       "      <th>count</th>\n",
       "      <td>9888.000000</td>\n",
       "      <td>9879.000000</td>\n",
       "      <td>9832.000000</td>\n",
       "      <td>9888.000000</td>\n",
       "    </tr>\n",
       "    <tr>\n",
       "      <th>mean</th>\n",
       "      <td>1893.192860</td>\n",
       "      <td>11.570017</td>\n",
       "      <td>3.520124</td>\n",
       "      <td>149.160801</td>\n",
       "    </tr>\n",
       "    <tr>\n",
       "      <th>std</th>\n",
       "      <td>460.201582</td>\n",
       "      <td>6.002820</td>\n",
       "      <td>1.220534</td>\n",
       "      <td>151.819752</td>\n",
       "    </tr>\n",
       "    <tr>\n",
       "      <th>min</th>\n",
       "      <td>0.000000</td>\n",
       "      <td>1.040000</td>\n",
       "      <td>0.010000</td>\n",
       "      <td>13.000000</td>\n",
       "    </tr>\n",
       "    <tr>\n",
       "      <th>25%</th>\n",
       "      <td>1996.000000</td>\n",
       "      <td>7.470000</td>\n",
       "      <td>2.540000</td>\n",
       "      <td>70.000000</td>\n",
       "    </tr>\n",
       "    <tr>\n",
       "      <th>50%</th>\n",
       "      <td>2007.000000</td>\n",
       "      <td>10.280000</td>\n",
       "      <td>3.330000</td>\n",
       "      <td>108.000000</td>\n",
       "    </tr>\n",
       "    <tr>\n",
       "      <th>75%</th>\n",
       "      <td>2017.000000</td>\n",
       "      <td>13.930000</td>\n",
       "      <td>4.250000</td>\n",
       "      <td>172.000000</td>\n",
       "    </tr>\n",
       "    <tr>\n",
       "      <th>max</th>\n",
       "      <td>2021.000000</td>\n",
       "      <td>100.000000</td>\n",
       "      <td>25.160000</td>\n",
       "      <td>3263.000000</td>\n",
       "    </tr>\n",
       "  </tbody>\n",
       "</table>\n",
       "</div>"
      ],
      "text/plain": [
       "        Year Built       Length        Width  Number of views last 7 days\n",
       "count  9888.000000  9879.000000  9832.000000                  9888.000000\n",
       "mean   1893.192860    11.570017     3.520124                   149.160801\n",
       "std     460.201582     6.002820     1.220534                   151.819752\n",
       "min       0.000000     1.040000     0.010000                    13.000000\n",
       "25%    1996.000000     7.470000     2.540000                    70.000000\n",
       "50%    2007.000000    10.280000     3.330000                   108.000000\n",
       "75%    2017.000000    13.930000     4.250000                   172.000000\n",
       "max    2021.000000   100.000000    25.160000                  3263.000000"
      ]
     },
     "execution_count": 4,
     "metadata": {},
     "output_type": "execute_result"
    }
   ],
   "source": [
    "df.describe()"
   ]
  },
  {
   "cell_type": "code",
   "execution_count": 5,
   "id": "5c227af4",
   "metadata": {},
   "outputs": [
    {
     "data": {
      "text/html": [
       "<div>\n",
       "<style scoped>\n",
       "    .dataframe tbody tr th:only-of-type {\n",
       "        vertical-align: middle;\n",
       "    }\n",
       "\n",
       "    .dataframe tbody tr th {\n",
       "        vertical-align: top;\n",
       "    }\n",
       "\n",
       "    .dataframe thead th {\n",
       "        text-align: right;\n",
       "    }\n",
       "</style>\n",
       "<table border=\"1\" class=\"dataframe\">\n",
       "  <thead>\n",
       "    <tr style=\"text-align: right;\">\n",
       "      <th></th>\n",
       "      <th>Price</th>\n",
       "      <th>Boat Type</th>\n",
       "      <th>Manufacturer</th>\n",
       "      <th>Type</th>\n",
       "      <th>Year Built</th>\n",
       "      <th>Length</th>\n",
       "      <th>Width</th>\n",
       "      <th>Material</th>\n",
       "      <th>Location</th>\n",
       "      <th>Number of views last 7 days</th>\n",
       "    </tr>\n",
       "  </thead>\n",
       "  <tbody>\n",
       "    <tr>\n",
       "      <th>9883</th>\n",
       "      <td>CHF 4900</td>\n",
       "      <td>Sport Boat</td>\n",
       "      <td>Sea Ray power boats</td>\n",
       "      <td>Used boat,Unleaded</td>\n",
       "      <td>1987</td>\n",
       "      <td>6.30</td>\n",
       "      <td>2.44</td>\n",
       "      <td>NaN</td>\n",
       "      <td>Switzerland Â» Lago Maggiore Â» Riazzino</td>\n",
       "      <td>1116</td>\n",
       "    </tr>\n",
       "    <tr>\n",
       "      <th>9884</th>\n",
       "      <td>EUR 4516</td>\n",
       "      <td>Sport Boat</td>\n",
       "      <td>NaN</td>\n",
       "      <td>new boat from stock</td>\n",
       "      <td>0</td>\n",
       "      <td>4.17</td>\n",
       "      <td>1.68</td>\n",
       "      <td>GRP</td>\n",
       "      <td>Germany Â» Hamburg Â» HAMBURG</td>\n",
       "      <td>94</td>\n",
       "    </tr>\n",
       "    <tr>\n",
       "      <th>9885</th>\n",
       "      <td>EUR 4499</td>\n",
       "      <td>Sport Boat</td>\n",
       "      <td>BlueCraft power boats</td>\n",
       "      <td>new boat from stock,Unleaded</td>\n",
       "      <td>2020</td>\n",
       "      <td>4.40</td>\n",
       "      <td>1.80</td>\n",
       "      <td>GRP</td>\n",
       "      <td>Germany Â» Nordrhein-Westfalen Â» Wesel</td>\n",
       "      <td>354</td>\n",
       "    </tr>\n",
       "    <tr>\n",
       "      <th>9886</th>\n",
       "      <td>EUR 4300</td>\n",
       "      <td>Pontoon Boat</td>\n",
       "      <td>Whaly power boats</td>\n",
       "      <td>new boat from stock</td>\n",
       "      <td>2018</td>\n",
       "      <td>4.37</td>\n",
       "      <td>1.89</td>\n",
       "      <td>NaN</td>\n",
       "      <td>Italy Â» Dormelletto</td>\n",
       "      <td>266</td>\n",
       "    </tr>\n",
       "    <tr>\n",
       "      <th>9887</th>\n",
       "      <td>CHF 3780</td>\n",
       "      <td>Fishing Boat</td>\n",
       "      <td>DarekCo power boats</td>\n",
       "      <td>new boat from stock</td>\n",
       "      <td>2019</td>\n",
       "      <td>3.60</td>\n",
       "      <td>1.60</td>\n",
       "      <td>GRP</td>\n",
       "      <td>Switzerland Â» Brienzersee Â» Brienz</td>\n",
       "      <td>194</td>\n",
       "    </tr>\n",
       "  </tbody>\n",
       "</table>\n",
       "</div>"
      ],
      "text/plain": [
       "         Price     Boat Type           Manufacturer  \\\n",
       "9883  CHF 4900    Sport Boat    Sea Ray power boats   \n",
       "9884  EUR 4516    Sport Boat                    NaN   \n",
       "9885  EUR 4499    Sport Boat  BlueCraft power boats   \n",
       "9886  EUR 4300  Pontoon Boat      Whaly power boats   \n",
       "9887  CHF 3780  Fishing Boat    DarekCo power boats   \n",
       "\n",
       "                              Type  Year Built  Length  Width Material  \\\n",
       "9883            Used boat,Unleaded        1987    6.30   2.44      NaN   \n",
       "9884           new boat from stock           0    4.17   1.68      GRP   \n",
       "9885  new boat from stock,Unleaded        2020    4.40   1.80      GRP   \n",
       "9886           new boat from stock        2018    4.37   1.89      NaN   \n",
       "9887           new boat from stock        2019    3.60   1.60      GRP   \n",
       "\n",
       "                                      Location  Number of views last 7 days  \n",
       "9883  Switzerland Â» Lago Maggiore Â» Riazzino                         1116  \n",
       "9884             Germany Â» Hamburg Â» HAMBURG                           94  \n",
       "9885   Germany Â» Nordrhein-Westfalen Â» Wesel                          354  \n",
       "9886                     Italy Â» Dormelletto                           266  \n",
       "9887      Switzerland Â» Brienzersee Â» Brienz                          194  "
      ]
     },
     "execution_count": 5,
     "metadata": {},
     "output_type": "execute_result"
    }
   ],
   "source": [
    "df = pd.read_csv('boat_data.csv')\n",
    "df.tail(5)"
   ]
  },
  {
   "cell_type": "code",
   "execution_count": 6,
   "id": "2f4e3ee8",
   "metadata": {},
   "outputs": [
    {
     "name": "stdout",
     "output_type": "stream",
     "text": [
      "<class 'pandas.core.frame.DataFrame'>\n",
      "RangeIndex: 9888 entries, 0 to 9887\n",
      "Data columns (total 10 columns):\n",
      " #   Column                       Non-Null Count  Dtype  \n",
      "---  ------                       --------------  -----  \n",
      " 0   Price                        9888 non-null   object \n",
      " 1   Boat Type                    9888 non-null   object \n",
      " 2   Manufacturer                 8550 non-null   object \n",
      " 3   Type                         9882 non-null   object \n",
      " 4   Year Built                   9888 non-null   int64  \n",
      " 5   Length                       9879 non-null   float64\n",
      " 6   Width                        9832 non-null   float64\n",
      " 7   Material                     8139 non-null   object \n",
      " 8   Location                     9852 non-null   object \n",
      " 9   Number of views last 7 days  9888 non-null   int64  \n",
      "dtypes: float64(2), int64(2), object(6)\n",
      "memory usage: 772.6+ KB\n"
     ]
    }
   ],
   "source": [
    "df.info()"
   ]
  },
  {
   "cell_type": "code",
   "execution_count": 7,
   "id": "09deecb1",
   "metadata": {},
   "outputs": [
    {
     "data": {
      "text/plain": [
       "Price                             0\n",
       "Boat Type                         0\n",
       "Manufacturer                   1338\n",
       "Type                              6\n",
       "Year Built                        0\n",
       "Length                            9\n",
       "Width                            56\n",
       "Material                       1749\n",
       "Location                         36\n",
       "Number of views last 7 days       0\n",
       "dtype: int64"
      ]
     },
     "execution_count": 7,
     "metadata": {},
     "output_type": "execute_result"
    }
   ],
   "source": [
    "df.isna().sum()"
   ]
  },
  {
   "cell_type": "markdown",
   "id": "1bbeeece",
   "metadata": {},
   "source": [
    "# temp\n"
   ]
  },
  {
   "cell_type": "code",
   "execution_count": 6,
   "id": "36327a06",
   "metadata": {},
   "outputs": [
    {
     "data": {
      "text/plain": [
       "Netherlands Â» In verkoophaven    309\n",
       "Croatia (Hrvatska)                244\n",
       "Italy Â» Toscana Â» Toscana       173\n",
       "Italy                             155\n",
       "France                            152\n",
       "Name: Location, dtype: int64"
      ]
     },
     "execution_count": 6,
     "metadata": {},
     "output_type": "execute_result"
    }
   ],
   "source": [
    "df.Location.value_counts()[:5]"
   ]
  },
  {
   "cell_type": "code",
   "execution_count": 7,
   "id": "65132079",
   "metadata": {},
   "outputs": [
    {
     "data": {
      "text/plain": [
       "BÃ©nÃ©teau power boats    631\n",
       "Jeanneau power boats      537\n",
       "Sunseeker power boats     383\n",
       "Princess power boats      241\n",
       "Sea Ray power boats       239\n",
       "Name: Manufacturer, dtype: int64"
      ]
     },
     "execution_count": 7,
     "metadata": {},
     "output_type": "execute_result"
    }
   ],
   "source": [
    "df.Manufacturer.value_counts()[:5]"
   ]
  },
  {
   "cell_type": "code",
   "execution_count": 8,
   "id": "d48f77a3",
   "metadata": {},
   "outputs": [
    {
     "data": {
      "text/plain": [
       "Motor Yacht    2720\n",
       "Sport Boat     1407\n",
       "Flybridge      1194\n",
       "Trawler         679\n",
       "Pilothouse      613\n",
       "Name: Boat Type, dtype: int64"
      ]
     },
     "execution_count": 8,
     "metadata": {},
     "output_type": "execute_result"
    }
   ],
   "source": [
    "df['Boat Type'].value_counts()[:5]\n"
   ]
  },
  {
   "cell_type": "code",
   "execution_count": 9,
   "id": "d2334b2e",
   "metadata": {},
   "outputs": [
    {
     "data": {
      "text/plain": [
       "Price                             0\n",
       "Boat Type                         0\n",
       "Manufacturer                   1338\n",
       "Type                              6\n",
       "Year Built                        0\n",
       "Length                            9\n",
       "Width                            56\n",
       "Material                       1749\n",
       "Location                         36\n",
       "Number of views last 7 days       0\n",
       "dtype: int64"
      ]
     },
     "execution_count": 9,
     "metadata": {},
     "output_type": "execute_result"
    }
   ],
   "source": [
    "df.isnull().sum()"
   ]
  },
  {
   "cell_type": "markdown",
   "id": "58222985",
   "metadata": {},
   "source": [
    "# Is it the most expensive boats that get the most views?\n",
    "\n"
   ]
  },
  {
   "cell_type": "code",
   "execution_count": 9,
   "id": "b9840882",
   "metadata": {},
   "outputs": [],
   "source": [
    "most_viewed = df[df['Number of views last 7 days'] > 700].sort_values('Number of views last 7 days', ascending=False)"
   ]
  },
  {
   "cell_type": "code",
   "execution_count": 10,
   "id": "3285205b",
   "metadata": {},
   "outputs": [
    {
     "data": {
      "text/html": [
       "<div>\n",
       "<style scoped>\n",
       "    .dataframe tbody tr th:only-of-type {\n",
       "        vertical-align: middle;\n",
       "    }\n",
       "\n",
       "    .dataframe tbody tr th {\n",
       "        vertical-align: top;\n",
       "    }\n",
       "\n",
       "    .dataframe thead th {\n",
       "        text-align: right;\n",
       "    }\n",
       "</style>\n",
       "<table border=\"1\" class=\"dataframe\">\n",
       "  <thead>\n",
       "    <tr style=\"text-align: right;\">\n",
       "      <th></th>\n",
       "      <th>Price</th>\n",
       "      <th>Boat Type</th>\n",
       "      <th>Manufacturer</th>\n",
       "      <th>Type</th>\n",
       "      <th>Year Built</th>\n",
       "      <th>Length</th>\n",
       "      <th>Width</th>\n",
       "      <th>Material</th>\n",
       "      <th>Location</th>\n",
       "      <th>Number of views last 7 days</th>\n",
       "    </tr>\n",
       "  </thead>\n",
       "  <tbody>\n",
       "    <tr>\n",
       "      <th>9580</th>\n",
       "      <td>CHF 14900</td>\n",
       "      <td>Motor Yacht</td>\n",
       "      <td>Bayliner power boats</td>\n",
       "      <td>Used boat,Unleaded</td>\n",
       "      <td>1992</td>\n",
       "      <td>7.70</td>\n",
       "      <td>2.46</td>\n",
       "      <td>Plastic</td>\n",
       "      <td>Switzerland Â» Le Landeron (NE)</td>\n",
       "      <td>3263</td>\n",
       "    </tr>\n",
       "    <tr>\n",
       "      <th>8723</th>\n",
       "      <td>CHF 35000</td>\n",
       "      <td>Hardtop</td>\n",
       "      <td>Princess power boats</td>\n",
       "      <td>Used boat,Diesel</td>\n",
       "      <td>1979</td>\n",
       "      <td>11.12</td>\n",
       "      <td>3.88</td>\n",
       "      <td>GRP</td>\n",
       "      <td>Switzerland Â» Neuenburgersee Â» Hauterive</td>\n",
       "      <td>2432</td>\n",
       "    </tr>\n",
       "    <tr>\n",
       "      <th>6211</th>\n",
       "      <td>CHF 125900</td>\n",
       "      <td>Bowrider,Motor Yacht,Sport Boat</td>\n",
       "      <td>Windy power boats</td>\n",
       "      <td>Used boat,Diesel</td>\n",
       "      <td>2002</td>\n",
       "      <td>12.35</td>\n",
       "      <td>3.48</td>\n",
       "      <td>GRP</td>\n",
       "      <td>Switzerland Â» Lago Maggiore Â» 6600 Locarno</td>\n",
       "      <td>2261</td>\n",
       "    </tr>\n",
       "    <tr>\n",
       "      <th>3700</th>\n",
       "      <td>EUR 949000</td>\n",
       "      <td>Hardtop</td>\n",
       "      <td>Pershing power boats</td>\n",
       "      <td>Used boat,Diesel</td>\n",
       "      <td>2009</td>\n",
       "      <td>20.30</td>\n",
       "      <td>5.20</td>\n",
       "      <td>GRP</td>\n",
       "      <td>Neustadt in Holstein (Ostsee)</td>\n",
       "      <td>2154</td>\n",
       "    </tr>\n",
       "    <tr>\n",
       "      <th>308</th>\n",
       "      <td>CHF 19900</td>\n",
       "      <td>Sport Boat</td>\n",
       "      <td>Sea Ray power boats</td>\n",
       "      <td>Used boat,Unleaded</td>\n",
       "      <td>1993</td>\n",
       "      <td>6.14</td>\n",
       "      <td>2.34</td>\n",
       "      <td>Plastic</td>\n",
       "      <td>Switzerland Â» Murtensee Â» Avenches</td>\n",
       "      <td>2026</td>\n",
       "    </tr>\n",
       "    <tr>\n",
       "      <th>...</th>\n",
       "      <td>...</td>\n",
       "      <td>...</td>\n",
       "      <td>...</td>\n",
       "      <td>...</td>\n",
       "      <td>...</td>\n",
       "      <td>...</td>\n",
       "      <td>...</td>\n",
       "      <td>...</td>\n",
       "      <td>...</td>\n",
       "      <td>...</td>\n",
       "    </tr>\n",
       "    <tr>\n",
       "      <th>9409</th>\n",
       "      <td>CHF 19000</td>\n",
       "      <td>Bowrider</td>\n",
       "      <td>Larson power boats</td>\n",
       "      <td>Used boat,Unleaded</td>\n",
       "      <td>1998</td>\n",
       "      <td>6.07</td>\n",
       "      <td>2.47</td>\n",
       "      <td>GRP</td>\n",
       "      <td>Switzerland Â» Lake Geneva Â» Port de Founex</td>\n",
       "      <td>709</td>\n",
       "    </tr>\n",
       "    <tr>\n",
       "      <th>9569</th>\n",
       "      <td>CHF 15000</td>\n",
       "      <td>Cabin Boat</td>\n",
       "      <td>NaN</td>\n",
       "      <td>Used boat,Diesel</td>\n",
       "      <td>1985</td>\n",
       "      <td>6.90</td>\n",
       "      <td>2.55</td>\n",
       "      <td>GRP</td>\n",
       "      <td>Switzerland Â» Lake Constance Â» Landschlacht</td>\n",
       "      <td>708</td>\n",
       "    </tr>\n",
       "    <tr>\n",
       "      <th>7838</th>\n",
       "      <td>CHF 56500</td>\n",
       "      <td>Cabin Boat</td>\n",
       "      <td>Rinker power boats</td>\n",
       "      <td>Used boat,Unleaded</td>\n",
       "      <td>2008</td>\n",
       "      <td>7.47</td>\n",
       "      <td>2.59</td>\n",
       "      <td>GRP</td>\n",
       "      <td>Switzerland Â» Lake Geneva Â» Morges</td>\n",
       "      <td>708</td>\n",
       "    </tr>\n",
       "    <tr>\n",
       "      <th>8736</th>\n",
       "      <td>CHF 35000</td>\n",
       "      <td>Motor Yacht</td>\n",
       "      <td>Sunseeker power boats</td>\n",
       "      <td>Used boat</td>\n",
       "      <td>1990</td>\n",
       "      <td>9.42</td>\n",
       "      <td>3.30</td>\n",
       "      <td>GRP</td>\n",
       "      <td>Switzerland Â» Ermatingen</td>\n",
       "      <td>706</td>\n",
       "    </tr>\n",
       "    <tr>\n",
       "      <th>867</th>\n",
       "      <td>EUR 43000</td>\n",
       "      <td>Motor Yacht</td>\n",
       "      <td>Bayliner power boats</td>\n",
       "      <td>Used boat,Diesel</td>\n",
       "      <td>1999</td>\n",
       "      <td>10.20</td>\n",
       "      <td>3.41</td>\n",
       "      <td>GRP</td>\n",
       "      <td>Croatia (Hrvatska) Â» Porec</td>\n",
       "      <td>704</td>\n",
       "    </tr>\n",
       "  </tbody>\n",
       "</table>\n",
       "<p>119 rows × 10 columns</p>\n",
       "</div>"
      ],
      "text/plain": [
       "           Price                        Boat Type           Manufacturer  \\\n",
       "9580   CHF 14900                      Motor Yacht   Bayliner power boats   \n",
       "8723   CHF 35000                          Hardtop   Princess power boats   \n",
       "6211  CHF 125900  Bowrider,Motor Yacht,Sport Boat      Windy power boats   \n",
       "3700  EUR 949000                          Hardtop   Pershing power boats   \n",
       "308    CHF 19900                       Sport Boat    Sea Ray power boats   \n",
       "...          ...                              ...                    ...   \n",
       "9409   CHF 19000                         Bowrider     Larson power boats   \n",
       "9569   CHF 15000                       Cabin Boat                    NaN   \n",
       "7838   CHF 56500                       Cabin Boat     Rinker power boats   \n",
       "8736   CHF 35000                      Motor Yacht  Sunseeker power boats   \n",
       "867    EUR 43000                      Motor Yacht   Bayliner power boats   \n",
       "\n",
       "                    Type  Year Built  Length  Width Material  \\\n",
       "9580  Used boat,Unleaded        1992    7.70   2.46  Plastic   \n",
       "8723    Used boat,Diesel        1979   11.12   3.88      GRP   \n",
       "6211    Used boat,Diesel        2002   12.35   3.48      GRP   \n",
       "3700    Used boat,Diesel        2009   20.30   5.20      GRP   \n",
       "308   Used boat,Unleaded        1993    6.14   2.34  Plastic   \n",
       "...                  ...         ...     ...    ...      ...   \n",
       "9409  Used boat,Unleaded        1998    6.07   2.47      GRP   \n",
       "9569    Used boat,Diesel        1985    6.90   2.55      GRP   \n",
       "7838  Used boat,Unleaded        2008    7.47   2.59      GRP   \n",
       "8736           Used boat        1990    9.42   3.30      GRP   \n",
       "867     Used boat,Diesel        1999   10.20   3.41      GRP   \n",
       "\n",
       "                                           Location  \\\n",
       "9580                Switzerland Â» Le Landeron (NE)   \n",
       "8723     Switzerland Â» Neuenburgersee Â» Hauterive   \n",
       "6211  Switzerland Â» Lago Maggiore Â» 6600 Locarno    \n",
       "3700                  Neustadt in Holstein (Ostsee)   \n",
       "308            Switzerland Â» Murtensee Â» Avenches   \n",
       "...                                             ...   \n",
       "9409   Switzerland Â» Lake Geneva Â» Port de Founex   \n",
       "9569  Switzerland Â» Lake Constance Â» Landschlacht   \n",
       "7838           Switzerland Â» Lake Geneva Â» Morges   \n",
       "8736                      Switzerland Â» Ermatingen   \n",
       "867                     Croatia (Hrvatska) Â» Porec   \n",
       "\n",
       "      Number of views last 7 days  \n",
       "9580                         3263  \n",
       "8723                         2432  \n",
       "6211                         2261  \n",
       "3700                         2154  \n",
       "308                          2026  \n",
       "...                           ...  \n",
       "9409                          709  \n",
       "9569                          708  \n",
       "7838                          708  \n",
       "8736                          706  \n",
       "867                           704  \n",
       "\n",
       "[119 rows x 10 columns]"
      ]
     },
     "execution_count": 10,
     "metadata": {},
     "output_type": "execute_result"
    }
   ],
   "source": [
    "most_viewed\n"
   ]
  },
  {
   "cell_type": "code",
   "execution_count": 11,
   "id": "cc0fabe5",
   "metadata": {},
   "outputs": [
    {
     "name": "stderr",
     "output_type": "stream",
     "text": [
      "/var/folders/q5/b18s3s8s2vb1kmp31ystnh8h0000gn/T/ipykernel_93479/4225546040.py:3: UserWarning: To output multiple subplots, the figure containing the passed axes is being cleared.\n",
      "  df.hist(ax=ax);\n"
     ]
    },
    {
     "data": {
      "image/png": "[encoded data removed]",
      "text/plain": [
       "<Figure size 1000x1000 with 4 Axes>"
      ]
     },
     "metadata": {},
     "output_type": "display_data"
    }
   ],
   "source": [
    "fig = plt.figure(figsize = (10,10))\n",
    "ax = fig.gca()\n",
    "df.hist(ax=ax);"
   ]
  },
  {
   "cell_type": "code",
   "execution_count": null,
   "id": "1d8e3f2a",
   "metadata": {},
   "outputs": [],
   "source": []
  }
 ],
 "metadata": {
  "kernelspec": {
   "display_name": "Python 3 (ipykernel)",
   "language": "python",
   "name": "python3"
  },
  "language_info": {
   "codemirror_mode": {
    "name": "ipython",
    "version": 3
   },
   "file_extension": ".py",
   "mimetype": "text/x-python",
   "name": "python",
   "nbconvert_exporter": "python",
   "pygments_lexer": "ipython3",
   "version": "3.10.5"
  }
 },
 "nbformat": 4,
 "nbformat_minor": 5
}
